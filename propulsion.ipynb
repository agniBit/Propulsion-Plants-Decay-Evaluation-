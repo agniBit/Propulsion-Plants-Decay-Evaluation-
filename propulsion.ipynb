{
 "cells": [
  {
   "cell_type": "code",
   "execution_count": 1,
   "metadata": {},
   "outputs": [],
   "source": [
    "import pandas as pd\n",
    "import seaborn as sns\n",
    "import keras\n",
    "from keras.models import Sequential\n",
    "from sklearn.model_selection import train_test_split\n",
    "from keras.layers import Dense\n",
    "import matplotlib.pyplot as plt\n",
    "from sklearn.preprocessing import StandardScaler\n",
    "import tensorflow as tf\n",
    "import math\n",
    "import pickle\n",
    "from sklearn.linear_model import LinearRegression\n",
    "from sklearn.metrics import mean_squared_error\n",
    "from sklearn.metrics import mean_absolute_error\n",
    "from sklearn.tree import DecisionTreeRegressor\n",
    "from sklearn.ensemble import RandomForestRegressor"
   ]
  },
  {
   "cell_type": "code",
   "execution_count": 2,
   "metadata": {},
   "outputs": [],
   "source": [
    "# read CSV file\n",
    "data = pd.read_csv(r'propulsion.csv')"
   ]
  },
  {
   "cell_type": "code",
   "execution_count": 3,
   "metadata": {},
   "outputs": [
    {
     "data": {
      "text/html": [
       "<div>\n",
       "<style scoped>\n",
       "    .dataframe tbody tr th:only-of-type {\n",
       "        vertical-align: middle;\n",
       "    }\n",
       "\n",
       "    .dataframe tbody tr th {\n",
       "        vertical-align: top;\n",
       "    }\n",
       "\n",
       "    .dataframe thead th {\n",
       "        text-align: right;\n",
       "    }\n",
       "</style>\n",
       "<table border=\"1\" class=\"dataframe\">\n",
       "  <thead>\n",
       "    <tr style=\"text-align: right;\">\n",
       "      <th></th>\n",
       "      <th>Lever position (lp) [ ]</th>\n",
       "      <th>Ship speed (v) [knots]</th>\n",
       "      <th>Gas Turbine shaft torque (GTT) [kN m]</th>\n",
       "      <th>Gas Turbine rate of revolutions (GTn) [rpm]</th>\n",
       "      <th>Gas Generator rate of revolutions (GGn) [rpm]</th>\n",
       "      <th>Starboard Propeller Torque (Ts) [kN]</th>\n",
       "      <th>Port Propeller Torque (Tp) [kN]</th>\n",
       "      <th>HP Turbine exit temperature (T48) [C]</th>\n",
       "      <th>GT Compressor inlet air temperature (T1) [C]</th>\n",
       "      <th>GT Compressor outlet air temperature (T2) [C]</th>\n",
       "      <th>HP Turbine exit pressure (P48) [bar]</th>\n",
       "      <th>GT Compressor inlet air pressure (P1) [bar]</th>\n",
       "      <th>GT Compressor outlet air pressure (P2) [bar]</th>\n",
       "      <th>Gas Turbine exhaust gas pressure (Pexh) [bar]</th>\n",
       "      <th>Turbine Injecton Control (TIC) [%]</th>\n",
       "      <th>Fuel flow (mf) [kg/s]</th>\n",
       "      <th>GT Compressor decay state coefficient.</th>\n",
       "      <th>GT Turbine decay state coefficient.</th>\n",
       "    </tr>\n",
       "  </thead>\n",
       "  <tbody>\n",
       "    <tr>\n",
       "      <th>0</th>\n",
       "      <td>9.300</td>\n",
       "      <td>27.0</td>\n",
       "      <td>72762.205</td>\n",
       "      <td>3560.393</td>\n",
       "      <td>9753.812</td>\n",
       "      <td>644.806</td>\n",
       "      <td>644.806</td>\n",
       "      <td>1086.583</td>\n",
       "      <td>288.0</td>\n",
       "      <td>780.304</td>\n",
       "      <td>4.523</td>\n",
       "      <td>0.998</td>\n",
       "      <td>22.879</td>\n",
       "      <td>1.050</td>\n",
       "      <td>90.435</td>\n",
       "      <td>1.790</td>\n",
       "      <td>0.973</td>\n",
       "      <td>0.978</td>\n",
       "    </tr>\n",
       "    <tr>\n",
       "      <th>1</th>\n",
       "      <td>6.175</td>\n",
       "      <td>18.0</td>\n",
       "      <td>29760.552</td>\n",
       "      <td>2306.825</td>\n",
       "      <td>8780.012</td>\n",
       "      <td>246.011</td>\n",
       "      <td>246.011</td>\n",
       "      <td>776.921</td>\n",
       "      <td>288.0</td>\n",
       "      <td>665.511</td>\n",
       "      <td>2.518</td>\n",
       "      <td>0.998</td>\n",
       "      <td>13.438</td>\n",
       "      <td>1.030</td>\n",
       "      <td>34.596</td>\n",
       "      <td>0.685</td>\n",
       "      <td>0.995</td>\n",
       "      <td>0.975</td>\n",
       "    </tr>\n",
       "    <tr>\n",
       "      <th>2</th>\n",
       "      <td>3.144</td>\n",
       "      <td>9.0</td>\n",
       "      <td>8375.774</td>\n",
       "      <td>1386.739</td>\n",
       "      <td>7051.621</td>\n",
       "      <td>60.318</td>\n",
       "      <td>60.318</td>\n",
       "      <td>589.764</td>\n",
       "      <td>288.0</td>\n",
       "      <td>580.587</td>\n",
       "      <td>1.392</td>\n",
       "      <td>0.998</td>\n",
       "      <td>7.566</td>\n",
       "      <td>1.020</td>\n",
       "      <td>12.477</td>\n",
       "      <td>0.247</td>\n",
       "      <td>0.980</td>\n",
       "      <td>0.978</td>\n",
       "    </tr>\n",
       "    <tr>\n",
       "      <th>3</th>\n",
       "      <td>3.144</td>\n",
       "      <td>9.0</td>\n",
       "      <td>8377.589</td>\n",
       "      <td>1386.748</td>\n",
       "      <td>7098.469</td>\n",
       "      <td>60.339</td>\n",
       "      <td>60.339</td>\n",
       "      <td>570.651</td>\n",
       "      <td>288.0</td>\n",
       "      <td>576.565</td>\n",
       "      <td>1.390</td>\n",
       "      <td>0.998</td>\n",
       "      <td>7.409</td>\n",
       "      <td>1.021</td>\n",
       "      <td>11.678</td>\n",
       "      <td>0.231</td>\n",
       "      <td>0.984</td>\n",
       "      <td>1.000</td>\n",
       "    </tr>\n",
       "    <tr>\n",
       "      <th>4</th>\n",
       "      <td>6.175</td>\n",
       "      <td>18.0</td>\n",
       "      <td>29761.091</td>\n",
       "      <td>2306.825</td>\n",
       "      <td>8782.024</td>\n",
       "      <td>246.021</td>\n",
       "      <td>246.021</td>\n",
       "      <td>769.855</td>\n",
       "      <td>288.0</td>\n",
       "      <td>663.682</td>\n",
       "      <td>2.518</td>\n",
       "      <td>0.998</td>\n",
       "      <td>13.374</td>\n",
       "      <td>1.031</td>\n",
       "      <td>34.154</td>\n",
       "      <td>0.676</td>\n",
       "      <td>0.998</td>\n",
       "      <td>0.980</td>\n",
       "    </tr>\n",
       "  </tbody>\n",
       "</table>\n",
       "</div>"
      ],
      "text/plain": [
       "   Lever position (lp) [ ]  Ship speed (v) [knots]  \\\n",
       "0                    9.300                    27.0   \n",
       "1                    6.175                    18.0   \n",
       "2                    3.144                     9.0   \n",
       "3                    3.144                     9.0   \n",
       "4                    6.175                    18.0   \n",
       "\n",
       "   Gas Turbine shaft torque (GTT) [kN m]  \\\n",
       "0                              72762.205   \n",
       "1                              29760.552   \n",
       "2                               8375.774   \n",
       "3                               8377.589   \n",
       "4                              29761.091   \n",
       "\n",
       "   Gas Turbine rate of revolutions (GTn) [rpm]  \\\n",
       "0                                     3560.393   \n",
       "1                                     2306.825   \n",
       "2                                     1386.739   \n",
       "3                                     1386.748   \n",
       "4                                     2306.825   \n",
       "\n",
       "   Gas Generator rate of revolutions (GGn) [rpm]  \\\n",
       "0                                       9753.812   \n",
       "1                                       8780.012   \n",
       "2                                       7051.621   \n",
       "3                                       7098.469   \n",
       "4                                       8782.024   \n",
       "\n",
       "   Starboard Propeller Torque (Ts) [kN]  Port Propeller Torque (Tp) [kN]  \\\n",
       "0                               644.806                          644.806   \n",
       "1                               246.011                          246.011   \n",
       "2                                60.318                           60.318   \n",
       "3                                60.339                           60.339   \n",
       "4                               246.021                          246.021   \n",
       "\n",
       "   HP Turbine exit temperature (T48) [C]  \\\n",
       "0                               1086.583   \n",
       "1                                776.921   \n",
       "2                                589.764   \n",
       "3                                570.651   \n",
       "4                                769.855   \n",
       "\n",
       "   GT Compressor inlet air temperature (T1) [C]  \\\n",
       "0                                         288.0   \n",
       "1                                         288.0   \n",
       "2                                         288.0   \n",
       "3                                         288.0   \n",
       "4                                         288.0   \n",
       "\n",
       "   GT Compressor outlet air temperature (T2) [C]  \\\n",
       "0                                        780.304   \n",
       "1                                        665.511   \n",
       "2                                        580.587   \n",
       "3                                        576.565   \n",
       "4                                        663.682   \n",
       "\n",
       "   HP Turbine exit pressure (P48) [bar]  \\\n",
       "0                                 4.523   \n",
       "1                                 2.518   \n",
       "2                                 1.392   \n",
       "3                                 1.390   \n",
       "4                                 2.518   \n",
       "\n",
       "   GT Compressor inlet air pressure (P1) [bar]  \\\n",
       "0                                        0.998   \n",
       "1                                        0.998   \n",
       "2                                        0.998   \n",
       "3                                        0.998   \n",
       "4                                        0.998   \n",
       "\n",
       "   GT Compressor outlet air pressure (P2) [bar]  \\\n",
       "0                                        22.879   \n",
       "1                                        13.438   \n",
       "2                                         7.566   \n",
       "3                                         7.409   \n",
       "4                                        13.374   \n",
       "\n",
       "   Gas Turbine exhaust gas pressure (Pexh) [bar]  \\\n",
       "0                                          1.050   \n",
       "1                                          1.030   \n",
       "2                                          1.020   \n",
       "3                                          1.021   \n",
       "4                                          1.031   \n",
       "\n",
       "   Turbine Injecton Control (TIC) [%]  Fuel flow (mf) [kg/s]  \\\n",
       "0                              90.435                  1.790   \n",
       "1                              34.596                  0.685   \n",
       "2                              12.477                  0.247   \n",
       "3                              11.678                  0.231   \n",
       "4                              34.154                  0.676   \n",
       "\n",
       "   GT Compressor decay state coefficient.  GT Turbine decay state coefficient.  \n",
       "0                                   0.973                                0.978  \n",
       "1                                   0.995                                0.975  \n",
       "2                                   0.980                                0.978  \n",
       "3                                   0.984                                1.000  \n",
       "4                                   0.998                                0.980  "
      ]
     },
     "execution_count": 3,
     "metadata": {},
     "output_type": "execute_result"
    }
   ],
   "source": [
    "# delete id column \n",
    "data.drop(['Unnamed: 0'],axis=1,inplace=True)\n",
    "data.head()"
   ]
  },
  {
   "cell_type": "code",
   "execution_count": 4,
   "metadata": {},
   "outputs": [
    {
     "data": {
      "text/plain": [
       "Lever position (lp) [ ]                          0\n",
       "Ship speed (v) [knots]                           0\n",
       "Gas Turbine shaft torque (GTT) [kN m]            0\n",
       "Gas Turbine rate of revolutions (GTn) [rpm]      0\n",
       "Gas Generator rate of revolutions (GGn) [rpm]    0\n",
       "Starboard Propeller Torque (Ts) [kN]             0\n",
       "Port Propeller Torque (Tp) [kN]                  0\n",
       "HP Turbine exit temperature (T48) [C]            0\n",
       "GT Compressor inlet air temperature (T1) [C]     0\n",
       "GT Compressor outlet air temperature (T2) [C]    0\n",
       "HP Turbine exit pressure (P48) [bar]             0\n",
       "GT Compressor inlet air pressure (P1) [bar]      0\n",
       "GT Compressor outlet air pressure (P2) [bar]     0\n",
       "Gas Turbine exhaust gas pressure (Pexh) [bar]    0\n",
       "Turbine Injecton Control (TIC) [%]               0\n",
       "Fuel flow (mf) [kg/s]                            0\n",
       "GT Compressor decay state coefficient.           0\n",
       "GT Turbine decay state coefficient.              0\n",
       "dtype: int64"
      ]
     },
     "execution_count": 4,
     "metadata": {},
     "output_type": "execute_result"
    }
   ],
   "source": [
    "# check if CSV file contains NULL values\n",
    "data.isnull().sum()\n",
    "\n",
    "### as file not contains NULL values we can skip data cleaning process"
   ]
  },
  {
   "cell_type": "code",
   "execution_count": null,
   "metadata": {},
   "outputs": [],
   "source": [
    "#model for predicting 'GT Compressor decay state coefficient.'\n",
    "\n",
    "Y_c = data['GT Compressor decay state coefficient.']\n",
    "Y_t = data['GT Turbine decay state coefficient.']\n",
    "\n",
    "# delete 'GT Compressor decay state coefficient.' and 'GT Turbine decay state coefficient.'\n",
    "# as we don't need in training features\n",
    "data.drop(['GT Compressor decay state coefficient.', 'GT Turbine decay state coefficient.'],axis=1,inplace=True)\n",
    "X = data\n",
    "\n",
    "# scale values in [0,1] for training and testing\n",
    "scaler = StandardScaler()\n",
    "X = scaler.fit_transform(X)\n",
    "\n",
    "# delete CSV data as we don't that in future\n",
    "del data\n",
    "\n",
    "# split data in Testing and Training set\n",
    "size = 9000\n",
    "X_train, X_test ,Y_c_train, Y_c_test, Y_t_train, Y_t_test = \\\n",
    "    X[:size] ,X[size:] ,Y_c[:size] ,Y_c[size:] ,Y_t[:size] , Y_t[size:]"
   ]
  },
  {
   "cell_type": "code",
   "execution_count": null,
   "metadata": {},
   "outputs": [],
   "source": [
    "# define general function for ploting predicted and true points\n",
    "def plot(y,y_pred,size=100):\n",
    "    # plot Predicted vs true values\n",
    "    plt.figure(figsize=(20,7))\n",
    "    plt.plot(range(size),y_pred.reshape(-1)[:size],label=\"prediction\")\n",
    "    plt.plot(range(size),y[:size],label='actual')\n",
    "    plt.legend()"
   ]
  },
  {
   "cell_type": "markdown",
   "metadata": {},
   "source": [
    "## Simple Neural Network Model with 2 hidden layers"
   ]
  },
  {
   "cell_type": "code",
   "execution_count": null,
   "metadata": {},
   "outputs": [],
   "source": [
    "# define NN model\n",
    "nn_model = Sequential()\n",
    "nn_model.add(Dense(300, input_shape= (16,)))\n",
    "nn_model.add(Dense(100, activation='relu'))\n",
    "nn_model.add(Dense(100, activation='relu'))\n",
    "nn_model.add(Dense(1, activation='relu'))\n",
    "\n",
    "# loss function MSE\n",
    "# Optimizer Adam with default learning rate .001\n",
    "nn_model.compile(loss='mean_squared_error', optimizer='adam')"
   ]
  },
  {
   "cell_type": "code",
   "execution_count": null,
   "metadata": {},
   "outputs": [],
   "source": [
    "# print model description\n",
    "print(nn_model.summary())"
   ]
  },
  {
   "cell_type": "code",
   "execution_count": null,
   "metadata": {},
   "outputs": [],
   "source": [
    "# define early stopping\n",
    "callback = tf.keras.callbacks.EarlyStopping(monitor='loss', \n",
    "                                            patience=3,restore_best_weights=True)\n",
    "\n",
    "# train model\n",
    "history = nn_model.fit(X_train, Y_c_train, epochs=200, \n",
    "                    validation_data=(X_test,Y_c_test), \n",
    "                    batch_size=1000,callbacks=[callback],verbose=0)"
   ]
  },
  {
   "cell_type": "code",
   "execution_count": null,
   "metadata": {},
   "outputs": [],
   "source": [
    "# plot model loss vs epochs\n",
    "plt.plot(history.history['loss'])\n",
    "plt.plot(history.history['val_loss'])\n",
    "plt.title('model loss')\n",
    "plt.ylabel('loss')\n",
    "plt.xlabel('epoch')\n",
    "plt.legend(['train', 'test'])\n",
    "plt.show()"
   ]
  },
  {
   "cell_type": "code",
   "execution_count": null,
   "metadata": {},
   "outputs": [],
   "source": [
    "# calculate MSE, MAE and RMSE errors on train set\n",
    "nn_mse = mean_squared_error(Y_c_train, nn_model.predict(X_train))\n",
    "nn_mae = mean_absolute_error(Y_c_train, nn_model.predict(X_train))\n",
    "print(\"Neural Network train  mse = \",nn_mse,\"  mae = \",nn_mae,\"  rmse = \", math.sqrt(nn_mse))\n",
    "\n",
    "# calculate MSE, MAE and RMSE errors on test set\n",
    "nn_test_mse = mean_squared_error(Y_c_test, nn_model.predict(X_test))\n",
    "nn_test_mae = mean_absolute_error(Y_c_test, nn_model.predict(X_test))\n",
    "print(\"Neural Network test   mse = \",nn_test_mse,\"  mae = \",nn_test_mae,\"  rmse = \", math.sqrt(nn_test_mse))"
   ]
  },
  {
   "cell_type": "code",
   "execution_count": null,
   "metadata": {},
   "outputs": [],
   "source": [
    "# predict on test set for evaluation\n",
    "y_pred = nn_model.predict(X_test)\n",
    "plot(Y_c_test, y_pred)"
   ]
  },
  {
   "cell_type": "markdown",
   "metadata": {},
   "source": [
    "## Linear Regression Model"
   ]
  },
  {
   "cell_type": "code",
   "execution_count": null,
   "metadata": {},
   "outputs": [],
   "source": [
    "# define Linear Regression model\n",
    "lr_model = LinearRegression()\n",
    "\n",
    "# train model on train set\n",
    "lr_model.fit(X_train, Y_c_train)"
   ]
  },
  {
   "cell_type": "code",
   "execution_count": null,
   "metadata": {},
   "outputs": [],
   "source": [
    "# calculate MSE, MAE and RMSE error in train set\n",
    "lr_mse = mean_squared_error(Y_c_train, lr_model.predict(X_train))\n",
    "lr_mae = mean_absolute_error(Y_c_train, lr_model.predict(X_train))\n",
    "print(\"Linear Regression train  mse = \",lr_mse,\"  mae = \",lr_mae,\"  rmse = \", math.sqrt(lr_mse))\n",
    "\n",
    "# calculate MSE, MAE and RMSE errors on test set\n",
    "lr_test_mse = mean_squared_error(Y_c_test, lr_model.predict(X_test))\n",
    "lr_test_mae = mean_absolute_error(Y_c_test, lr_model.predict(X_test))\n",
    "print(\"Linear Regression test   mse = \",lr_test_mse,\"  mae = \",lr_test_mae,\"  rmse = \", math.sqrt(lr_test_mse))"
   ]
  },
  {
   "cell_type": "code",
   "execution_count": null,
   "metadata": {},
   "outputs": [],
   "source": [
    "plot(Y_c_test,lr_model.predict(X_test))"
   ]
  },
  {
   "cell_type": "markdown",
   "metadata": {},
   "source": [
    "## Decision Tree Regressor Model"
   ]
  },
  {
   "cell_type": "code",
   "execution_count": null,
   "metadata": {},
   "outputs": [],
   "source": [
    "# define Decision Tree Regressor Model\n",
    "tree_model = DecisionTreeRegressor()"
   ]
  },
  {
   "cell_type": "code",
   "execution_count": null,
   "metadata": {},
   "outputs": [],
   "source": [
    "# train Decision Tree Regressor Model\n",
    "tree_model.fit(X_train, Y_c_train)"
   ]
  },
  {
   "cell_type": "code",
   "execution_count": null,
   "metadata": {},
   "outputs": [],
   "source": [
    "# calculate MSE, MAE and RMSE errors on train set\n",
    "tree_mse = mean_squared_error(Y_c_train, tree_model.predict(X_train))\n",
    "tree_mae = mean_absolute_error(Y_c_train, tree_model.predict(X_train))\n",
    "print(\"Decision Tree train  mse = \",tree_mse,\"  mae = \",tree_mae,\"  rmse = \", math.sqrt(tree_mse))\n",
    "\n",
    "# calculate MSE, MAE and RMSE errors on test set\n",
    "tree_test_mse = mean_squared_error(Y_c_test, tree_model.predict(X_test))\n",
    "tree_test_mae = mean_absolute_error(Y_c_test, tree_model.predict(X_test))\n",
    "print(\"Decision Tree test   mse = \",tree_test_mse,\"  mae = \",tree_test_mae,\"  rmse = \", math.sqrt(tree_test_mse))"
   ]
  },
  {
   "cell_type": "code",
   "execution_count": null,
   "metadata": {},
   "outputs": [],
   "source": [
    "plot(Y_c_test,tree_model.predict(X_test))"
   ]
  },
  {
   "cell_type": "markdown",
   "metadata": {},
   "source": [
    "## Random Forest Regressor Model"
   ]
  },
  {
   "cell_type": "code",
   "execution_count": null,
   "metadata": {},
   "outputs": [],
   "source": [
    "# define Random Forest Regressor Model\n",
    "rf_model = RandomForestRegressor()"
   ]
  },
  {
   "cell_type": "code",
   "execution_count": null,
   "metadata": {},
   "outputs": [],
   "source": [
    "# train Random Forest Regressor Model\n",
    "rf_model.fit(X_train, Y_c_train)"
   ]
  },
  {
   "cell_type": "code",
   "execution_count": null,
   "metadata": {},
   "outputs": [],
   "source": [
    "# calculate MSE, MAE and RMSE errors on train set\n",
    "rf_mse = mean_squared_error(Y_c_train, rf_model.predict(X_train))\n",
    "rf_mae = mean_absolute_error(Y_c_train, rf_model.predict(X_train))\n",
    "print(\"Random Forest train  mse = \",rf_mse,\"  mae = \",rf_mae,\"  rmse = \", math.sqrt(rf_mse))\n",
    "\n",
    "# calculate MSE, MAE and RMSE errors on test set\n",
    "rf_test_mse = mean_squared_error(Y_c_test, rf_model.predict(X_test))\n",
    "rf_test_mae = mean_absolute_error(Y_c_test, rf_model.predict(X_test))\n",
    "print(\"Random Forest test   mse = \",rf_test_mse,\"  mae = \",rf_test_mae,\"  rmse = \", math.sqrt(rf_test_mse))"
   ]
  },
  {
   "cell_type": "code",
   "execution_count": null,
   "metadata": {},
   "outputs": [],
   "source": [
    "plot(Y_c_test,rf_model.predict(X_test))"
   ]
  },
  {
   "cell_type": "markdown",
   "metadata": {},
   "source": [
    "# compare results of all 4 Models"
   ]
  },
  {
   "cell_type": "code",
   "execution_count": null,
   "metadata": {},
   "outputs": [],
   "source": [
    "print(\"Neural Network train     mse = \",nn_mse,\"  mae = \",nn_mae,\"  rmse = \", math.sqrt(nn_mse))\n",
    "print(\"Neural Network test      mse = \",nn_test_mse,\"  mae = \",nn_test_mae,\"  rmse = \", math.sqrt(nn_test_mse))\n",
    "\n",
    "print(\"Linear Regression train  mse = \",lr_mse,\"  mae = \",lr_mae,\"  rmse = \", math.sqrt(lr_mse))\n",
    "print(\"Linear Regression test   mse = \",lr_test_mse,\"  mae = \",lr_test_mae,\"  rmse = \", math.sqrt(lr_test_mse))\n",
    "\n",
    "print(\"Decision Tree train      mse = \",tree_mse,\"  mae = \",tree_mae,\"  rmse = \", math.sqrt(tree_mse))\n",
    "print(\"Decision Tree test       mse = \",tree_test_mse,\"  mae = \",tree_test_mae,\"  rmse = \", math.sqrt(tree_test_mse))\n",
    "\n",
    "print(\"Random Forest train      mse = \",rf_mse,\"  mae = \",rf_mae,\"  rmse = \", math.sqrt(rf_mse))\n",
    "print(\"Random Forest test       mse = \",rf_test_mse,\"  mae = \",rf_test_mae,\"  rmse = \", math.sqrt(rf_test_mse))"
   ]
  },
  {
   "cell_type": "raw",
   "metadata": {},
   "source": [
    "Random Forest Model performing best in test data with lowest error"
   ]
  },
  {
   "cell_type": "code",
   "execution_count": null,
   "metadata": {},
   "outputs": [],
   "source": [
    "# save best model for further use\n",
    "model_name = 'model.pkl'\n",
    "\n",
    "# Create an variable to pickle and open it in write mode\n",
    "with open('model.pkl', 'wb') as f:\n",
    "    pickle.dump([rf_model,scaler],f)"
   ]
  },
  {
   "cell_type": "code",
   "execution_count": null,
   "metadata": {},
   "outputs": [],
   "source": []
  }
 ],
 "metadata": {
  "kernelspec": {
   "display_name": "Python 3",
   "language": "python",
   "name": "python3"
  },
  "language_info": {
   "codemirror_mode": {
    "name": "ipython",
    "version": 3
   },
   "file_extension": ".py",
   "mimetype": "text/x-python",
   "name": "python",
   "nbconvert_exporter": "python",
   "pygments_lexer": "ipython3",
   "version": "3.8.5"
  }
 },
 "nbformat": 4,
 "nbformat_minor": 4
}
